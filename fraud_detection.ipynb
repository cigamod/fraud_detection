{
  "nbformat": 4,
  "nbformat_minor": 0,
  "metadata": {
    "language_info": {
      "name": "python",
      "version": "3.6.6",
      "mimetype": "text/x-python",
      "codemirror_mode": {
        "name": "ipython",
        "version": 3
      },
      "pygments_lexer": "ipython3",
      "nbconvert_exporter": "python",
      "file_extension": ".py"
    },
    "kernelspec": {
      "display_name": "Python 3",
      "language": "python",
      "name": "python3"
    },
    "colab": {
      "name": "fraud_detection.ipynb",
      "provenance": [],
      "include_colab_link": true
    }
  },
  "cells": [
    {
      "cell_type": "markdown",
      "metadata": {
        "id": "view-in-github",
        "colab_type": "text"
      },
      "source": [
        "<a href=\"https://colab.research.google.com/github/cigamod/fraud_detection/blob/master/fraud_detection.ipynb\" target=\"_parent\"><img src=\"https://colab.research.google.com/assets/colab-badge.svg\" alt=\"Open In Colab\"/></a>"
      ]
    },
    {
      "cell_type": "code",
      "metadata": {
        "_uuid": "7c13bb26-fbb0-4ab2-a227-31cfd48327fc",
        "_cell_guid": "f78aaa3b-2419-419c-a970-f711c156147a",
        "trusted": true,
        "id": "x5MhseEVUcD3",
        "colab_type": "code",
        "colab": {}
      },
      "source": [
        "import numpy as np\n",
        "import pandas as pd\n",
        "import multiprocessing\n",
        "import warnings\n",
        "import matplotlib.pyplot as plt\n",
        "import seaborn as sns\n",
        "import lightgbm as lgb\n",
        "import gc\n",
        "from time import time\n",
        "import datetime\n",
        "from tqdm import tqdm_notebook\n",
        "from sklearn.preprocessing import LabelEncoder\n",
        "from sklearn.model_selection import KFold, TimeSeriesSplit\n",
        "from sklearn.metrics import roc_auc_score\n",
        "warnings.simplefilter('ignore')\n",
        "sns.set()\n",
        "%matplotlib inline\n"
      ],
      "execution_count": 0,
      "outputs": []
    },
    {
      "cell_type": "code",
      "metadata": {
        "id": "Ww29dcwMdYqz",
        "colab_type": "code",
        "colab": {}
      },
      "source": [
        "from google.colab import drive\n",
        "drive.mount('/content/drive')"
      ],
      "execution_count": 0,
      "outputs": []
    },
    {
      "cell_type": "code",
      "metadata": {
        "_uuid": "5a90a34a-8d1e-4d0d-9497-840ecd86415c",
        "_cell_guid": "30cef36c-813f-4654-90e5-2fd96b4e202d",
        "trusted": true,
        "id": "kdTIEr5AUcEJ",
        "colab_type": "code",
        "colab": {}
      },
      "source": [
        "# load the train and test data\n",
        "train_identity=pd.read_csv(\"/content/drive/My Drive/fraud_detection_dataset/train_identity.csv\")\n",
        "train_transaction=pd.read_csv(\"/content/drive/My Drive/fraud_detection_dataset/train_transaction.csv\")\n",
        "test_identity=pd.read_csv(\"/content/drive/My Drive/fraud_detection_dataset/test_identity.csv\")\n",
        "test_transaction=pd.read_csv(\"/content/drive/My Drive/fraud_detection_dataset/test_transaction.csv\")"
      ],
      "execution_count": 0,
      "outputs": []
    },
    {
      "cell_type": "code",
      "metadata": {
        "_uuid": "a6744552-3063-4ef5-8ed0-371281d3e734",
        "_cell_guid": "c2932023-4bfe-404f-85cd-b72c80491f7a",
        "trusted": true,
        "id": "SsJSKSbqUcEY",
        "colab_type": "code",
        "colab": {}
      },
      "source": [
        "# reduce your memory by conversion\n",
        "# convert it to the low memory to fit the RAM\n",
        "def reduce_mem_usage(df, verbose=True):\n",
        "    numerics = ['int16', 'int32', 'int64', 'float16', 'float32', 'float64']\n",
        "    start_mem = df.memory_usage().sum() / 1024**2    \n",
        "    for col in df.columns:\n",
        "        col_type = df[col].dtypes\n",
        "        if col_type in numerics:\n",
        "            c_min = df[col].min()\n",
        "            c_max = df[col].max()\n",
        "            if str(col_type)[:3] == 'int':\n",
        "                if c_min > np.iinfo(np.int8).min and c_max < np.iinfo(np.int8).max:\n",
        "                    df[col] = df[col].astype(np.int8)\n",
        "                elif c_min > np.iinfo(np.int16).min and c_max < np.iinfo(np.int16).max:\n",
        "                    df[col] = df[col].astype(np.int16)\n",
        "                elif c_min > np.iinfo(np.int32).min and c_max < np.iinfo(np.int32).max:\n",
        "                    df[col] = df[col].astype(np.int32)\n",
        "                elif c_min > np.iinfo(np.int64).min and c_max < np.iinfo(np.int64).max:\n",
        "                    df[col] = df[col].astype(np.int64)  \n",
        "            else:\n",
        "                if c_min > np.finfo(np.float16).min and c_max < np.finfo(np.float16).max:\n",
        "                    df[col] = df[col].astype(np.float16)\n",
        "                elif c_min > np.finfo(np.float32).min and c_max < np.finfo(np.float32).max:\n",
        "                    df[col] = df[col].astype(np.float32)\n",
        "                else:\n",
        "                    df[col] = df[col].astype(np.float64)    \n",
        "    end_mem = df.memory_usage().sum() / 1024**2\n",
        "    if verbose: print('Mem. usage decreased to {:5.2f} Mb ({:.1f}% reduction)'.format(end_mem, 100 * (start_mem - end_mem) / start_mem))\n",
        "    return df"
      ],
      "execution_count": 0,
      "outputs": []
    },
    {
      "cell_type": "code",
      "metadata": {
        "_uuid": "425d99af-31f9-47b4-ac73-c3ce558449fd",
        "_cell_guid": "547741b3-a0de-43c2-8b0a-e88be1c0dd26",
        "trusted": true,
        "id": "8Spg4mrkUcEj",
        "colab_type": "code",
        "colab": {}
      },
      "source": [
        "train=pd.merge(train_transaction,train_identity,how=\"left\",on=\"TransactionID\")\n",
        "test=pd.merge(test_transaction,test_identity,how=\"left\",on=\"TransactionID\")"
      ],
      "execution_count": 0,
      "outputs": []
    },
    {
      "cell_type": "code",
      "metadata": {
        "_uuid": "0ab639a8-7099-43fc-bb68-249bda56ff84",
        "_cell_guid": "ccfe7b85-0b12-4d26-bb47-8eed998c5dfb",
        "trusted": true,
        "id": "D3rDpbonUcEw",
        "colab_type": "code",
        "colab": {}
      },
      "source": [
        "train=reduce_mem_usage(train)\n",
        "test=reduce_mem_usage(test)"
      ],
      "execution_count": 0,
      "outputs": []
    },
    {
      "cell_type": "code",
      "metadata": {
        "_uuid": "3dc29625-2192-47e4-b32d-5999f8f10eae",
        "_cell_guid": "331177cf-592d-4033-8e57-f0b62a8d9cd3",
        "trusted": true,
        "id": "bi_SBdA9UcE5",
        "colab_type": "code",
        "colab": {}
      },
      "source": [
        "del train_identity\n",
        "del test_identity\n",
        "del train_transaction\n",
        "del test_transaction"
      ],
      "execution_count": 0,
      "outputs": []
    },
    {
      "cell_type": "code",
      "metadata": {
        "_uuid": "33c1d906-fa19-4fb8-b262-b4902cbe5f53",
        "_cell_guid": "4f5eeec3-fc9f-4b81-801b-280acb8cfb57",
        "trusted": true,
        "id": "wb-DPm7oUcFE",
        "colab_type": "code",
        "colab": {}
      },
      "source": [
        "train.head(5)"
      ],
      "execution_count": 0,
      "outputs": []
    },
    {
      "cell_type": "code",
      "metadata": {
        "_uuid": "c2a13f9a-92e6-412d-a4d8-7d7235a517e8",
        "_cell_guid": "05bd69b9-e6b9-43eb-a130-e42e1bb20faa",
        "trusted": true,
        "id": "R5-ph49yUcFM",
        "colab_type": "code",
        "colab": {}
      },
      "source": [
        "category_column=['id_12', 'id_13', 'id_14', 'id_15', 'id_16', 'id_17', 'id_18', 'id_19', 'id_20', 'id_21', 'id_22', 'id_23', 'id_24', 'id_25', 'id_26', 'id_27', 'id_28', 'id_29',\n",
        "            'id_30', 'id_31', 'id_32', 'id_33', 'id_34', 'id_35', 'id_36', 'id_37', 'id_38', 'DeviceType', 'DeviceInfo', 'ProductCD', 'card4', 'card6', 'M4','P_emaildomain',\n",
        "            'R_emaildomain', 'card1', 'card2', 'card3',  'card5', 'addr1', 'addr2', 'M1', 'M2', 'M3', 'M5', 'M6', 'M7', 'M8', 'M9',\n",
        "            'P_emaildomain_1', 'P_emaildomain_2', 'P_emaildomain_3', 'R_emaildomain_1', 'R_emaildomain_2', 'R_emaildomain_3']\n",
        "print(\"no of categorical column:\",len(category_column))"
      ],
      "execution_count": 0,
      "outputs": []
    },
    {
      "cell_type": "code",
      "metadata": {
        "_uuid": "37a69b5d-59a0-460f-9e51-6a7fe106de81",
        "_cell_guid": "fb5ed60a-63cd-4b6f-a0ea-c58dd54b0212",
        "trusted": true,
        "id": "cJAMGkn-UcFW",
        "colab_type": "code",
        "colab": {}
      },
      "source": [
        "print(\"Train data\")\n",
        "train.isna().sum()\n",
        "print(\"Test data\")\n",
        "test.isna().sum()"
      ],
      "execution_count": 0,
      "outputs": []
    },
    {
      "cell_type": "code",
      "metadata": {
        "_uuid": "7426b603-2495-4354-90cd-c2bb5c4ffc66",
        "_cell_guid": "54d26472-5981-4ab2-bb92-80727df4a6fb",
        "trusted": true,
        "id": "3wEbrdS8UcFg",
        "colab_type": "code",
        "colab": {}
      },
      "source": [
        "#EDA\n",
        "more_than_90_NA_or_same_value_train=[]\n",
        "more_than_90_NA_or_same_value_test=[]\n",
        "many_na_train=[]\n",
        "many_na_test=[]\n",
        "for col in train.columns:\n",
        "    if train[col].isna().sum()/train.shape[0] >=0.90:\n",
        "        many_na_train.append(col) \n",
        "for col in test.columns:\n",
        "    if test[col].isna().sum()/test.shape[0]>=0.90:\n",
        "        many_na_test.append(col) \n",
        "for col in train.columns:\n",
        "    if train[col].value_counts(dropna=False,normalize=True).values[0] >= 0.90:\n",
        "        more_than_90_NA_or_same_value_train.append(col) \n",
        "for col in test.columns:\n",
        "    if test[col].value_counts(dropna=False,normalize=True).values[0]>=0.90:\n",
        "        more_than_90_NA_or_same_value_test.append(col) "
      ],
      "execution_count": 0,
      "outputs": []
    },
    {
      "cell_type": "code",
      "metadata": {
        "_uuid": "7193a8cb-ab95-4436-8250-e38795a573f4",
        "_cell_guid": "726dca52-04d3-41cb-bae5-5326c8706c8c",
        "trusted": true,
        "id": "Wq0q7hK6UcFt",
        "colab_type": "code",
        "colab": {}
      },
      "source": [
        "# store the columns to be dropped separately in train and test\n",
        "cols_drop_at_train=list(set(more_than_90_NA_or_same_value_train+many_na_train))\n",
        "cols_drop_at_test=list(set(more_than_90_NA_or_same_value_test+many_na_test))\n",
        "print(\"Columns to be dropped in train\",len(cols_drop_at_train))\n",
        "print(\"Columns to be dropped in test\",len(cols_drop_at_test))\n",
        "print(\"columns are @ train:\",cols_drop_at_train)\n",
        "print(\"columns are @ test:\", cols_drop_at_train)"
      ],
      "execution_count": 0,
      "outputs": []
    },
    {
      "cell_type": "code",
      "metadata": {
        "_uuid": "b0bdc4b3-af2f-4695-9f33-a1bf54e1f506",
        "_cell_guid": "3a09165d-b550-441a-ad37-c564709da569",
        "trusted": true,
        "id": "-NEidFvdUcF6",
        "colab_type": "code",
        "colab": {}
      },
      "source": [
        "total_drop_cols=list(set(cols_drop_at_train+cols_drop_at_test))\n",
        "print(\"Total number of columns to be deleted to increase your model performance\",len(total_drop_cols))\n",
        "print(\"They are:\",total_drop_cols)"
      ],
      "execution_count": 0,
      "outputs": []
    },
    {
      "cell_type": "code",
      "metadata": {
        "_uuid": "27ab2366-3863-4836-90ed-b456a8356f07",
        "_cell_guid": "6a7e6120-3e32-480c-aa33-be98e33f62f7",
        "trusted": true,
        "id": "3WyKG4cUUcGB",
        "colab_type": "code",
        "colab": {}
      },
      "source": [
        "# remove the isFraud\n",
        "total_drop_cols.remove('isFraud')\n",
        "print(\"You can check that column is removed:\",total_drop_cols)"
      ],
      "execution_count": 0,
      "outputs": []
    },
    {
      "cell_type": "code",
      "metadata": {
        "_uuid": "e2d543d8-905e-4e84-93b3-12b6762c75d5",
        "_cell_guid": "9c9607ed-eaad-446d-957e-f72f8b9bfad6",
        "trusted": true,
        "id": "3usBaLp3UcGI",
        "colab_type": "code",
        "colab": {}
      },
      "source": [
        "for col in total_drop_cols:\n",
        "    if col not in train.columns:\n",
        "        print(\"Missing drop column in train\",col)\n",
        "    if col not in test.columns:\n",
        "        print(\"Missing drop columns in test\",col)"
      ],
      "execution_count": 0,
      "outputs": []
    },
    {
      "cell_type": "code",
      "metadata": {
        "trusted": true,
        "id": "IFJ4n18vUcGU",
        "colab_type": "code",
        "colab": {}
      },
      "source": [
        "n=0\n",
        "print(\"len\",len(total_drop_cols))\n",
        "for col in train.columns:\n",
        "    if col in total_drop_cols:\n",
        "        n+=1\n",
        "print(n)"
      ],
      "execution_count": 0,
      "outputs": []
    },
    {
      "cell_type": "code",
      "metadata": {
        "_uuid": "1b345ad5-6abd-4afc-9149-ee1c91eba979",
        "_cell_guid": "d2ccd351-a8f2-4e18-b229-91d9e25f9b8a",
        "trusted": true,
        "id": "E6oFYTxhUcGa",
        "colab_type": "code",
        "colab": {}
      },
      "source": [
        "#columns after dropping unwanted columns\n",
        "print(\"Total number of columns we have now\",len(train.columns))"
      ],
      "execution_count": 0,
      "outputs": []
    },
    {
      "cell_type": "code",
      "metadata": {
        "_uuid": "4b97128a-e129-41c3-ba06-c8b733657584",
        "_cell_guid": "0c21918b-6f40-4857-9261-309dc65c372d",
        "trusted": true,
        "id": "rtKhKlJ8UcGi",
        "colab_type": "code",
        "colab": {}
      },
      "source": [
        "# plot the distribution to check it using seaborn\n",
        "sns.distplot(train['TransactionDT'], hist=True, kde=True,bins=40)\n",
        "sns.distplot(test['TransactionDT'],hist=True,kde=True,bins=40)\n",
        "plt.title('Density Plot of  TransactionDT  in training data')\n",
        "plt.xlabel(' TransactionDT')\n",
        "plt.ylabel('Counts')"
      ],
      "execution_count": 0,
      "outputs": []
    },
    {
      "cell_type": "code",
      "metadata": {
        "trusted": true,
        "id": "mlz5W-7WUcJq",
        "colab_type": "code",
        "colab": {}
      },
      "source": [
        "#label encoding for categorical variable\n",
        "from sklearn  import preprocessing\n",
        "for col in train.columns:\n",
        "    if train[col].dtype=='object' :\n",
        "      #  print(\"label encoding\",col)\n",
        "        lbl = preprocessing.LabelEncoder()\n",
        "        lbl.fit(list(train[col].values) + list(test[col].values))\n",
        "        train[col] =lbl.transform(list(train[col].values))\n",
        "        test[col]=lbl.transform(list(test[col].values))\n"
      ],
      "execution_count": 0,
      "outputs": []
    },
    {
      "cell_type": "code",
      "metadata": {
        "trusted": true,
        "id": "thP7yNT5UcJt",
        "colab_type": "code",
        "colab": {}
      },
      "source": [
        "def clean_inf_nan(df):\n",
        "    return df.replace([np.inf, -np.inf], np.nan)   \n",
        "\n",
        "# Cleaning infinite values to NaN\n",
        "train = clean_inf_nan(train)\n",
        "test = clean_inf_nan(test ) \n",
        "\n",
        "for i in train.columns:\n",
        "    train[i].fillna(train[i].median(),inplace=True) \n",
        "\n",
        "for i in test.columns:\n",
        "    test[i].fillna(test[i].median(),inplace=True)\n"
      ],
      "execution_count": 0,
      "outputs": []
    },
    {
      "cell_type": "code",
      "metadata": {
        "trusted": true,
        "id": "wwpIKjETUcKH",
        "colab_type": "code",
        "colab": {}
      },
      "source": [
        "# now we an split the data and train our model\n",
        "X = train.drop(['isFraud', 'TransactionDT', 'TransactionID'], axis=1)\n",
        "y = train['isFraud']\n",
        "X_test = test.drop(['TransactionDT', 'TransactionID'], axis=1)\n",
        "test = test[['TransactionID']]"
      ],
      "execution_count": 0,
      "outputs": []
    },
    {
      "cell_type": "code",
      "metadata": {
        "trusted": true,
        "id": "7cFQf4gEUcKP",
        "colab_type": "code",
        "colab": {}
      },
      "source": [
        "submission=pd.DataFrame()\n",
        "submission['TransactionID']=test['TransactionID']\n",
        "submission['isFraud'] = 0"
      ],
      "execution_count": 0,
      "outputs": []
    },
    {
      "cell_type": "code",
      "metadata": {
        "trusted": true,
        "id": "iof4UGRNUcKT",
        "colab_type": "code",
        "colab": {}
      },
      "source": [
        "import xgboost as xgb\n",
        "from sklearn.metrics import roc_auc_score\n",
        "from sklearn.linear_model import LogisticRegressionCV"
      ],
      "execution_count": 0,
      "outputs": []
    },
    {
      "cell_type": "code",
      "metadata": {
        "trusted": true,
        "id": "tgLVmKG1UcKX",
        "colab_type": "code",
        "colab": {}
      },
      "source": [
        "clf=LogisticRegressionCV(cv=5, random_state=0).fit(X, y)"
      ],
      "execution_count": 0,
      "outputs": []
    },
    {
      "cell_type": "code",
      "metadata": {
        "trusted": true,
        "id": "wkR7J3HvUcKg",
        "colab_type": "code",
        "colab": {}
      },
      "source": [
        "train_res=clf.predict_proba(X)"
      ],
      "execution_count": 0,
      "outputs": []
    },
    {
      "cell_type": "code",
      "metadata": {
        "trusted": true,
        "id": "ka4vNMvyUcKl",
        "colab_type": "code",
        "colab": {}
      },
      "source": [
        "test_res=clf.predict_proba(X_test)"
      ],
      "execution_count": 0,
      "outputs": []
    },
    {
      "cell_type": "code",
      "metadata": {
        "trusted": true,
        "id": "-tFz7mWXUcKq",
        "colab_type": "code",
        "colab": {}
      },
      "source": [
        "train_res=pd.DataFrame(train_res)"
      ],
      "execution_count": 0,
      "outputs": []
    },
    {
      "cell_type": "code",
      "metadata": {
        "trusted": true,
        "id": "PNhAFL7DUcKt",
        "colab_type": "code",
        "colab": {}
      },
      "source": [
        "train_val = pd.concat([X, train_res.iloc[0:train_res.shape[0],1]], axis=1)"
      ],
      "execution_count": 0,
      "outputs": []
    },
    {
      "cell_type": "code",
      "metadata": {
        "trusted": true,
        "id": "eeOOA-D6UcKw",
        "colab_type": "code",
        "colab": {}
      },
      "source": [
        "train_val=pd.concat([train_val,y],axis=1)"
      ],
      "execution_count": 0,
      "outputs": []
    },
    {
      "cell_type": "code",
      "metadata": {
        "trusted": true,
        "id": "7qt6iefmUcK0",
        "colab_type": "code",
        "colab": {}
      },
      "source": [
        "test_res=pd.DataFrame(test_res)"
      ],
      "execution_count": 0,
      "outputs": []
    },
    {
      "cell_type": "code",
      "metadata": {
        "trusted": true,
        "id": "9JBrUcZBUcK4",
        "colab_type": "code",
        "colab": {}
      },
      "source": [
        "test_val=pd.concat([X_test,test_res.iloc[0:test_res.shape[0],1]],axis=1)"
      ],
      "execution_count": 0,
      "outputs": []
    },
    {
      "cell_type": "code",
      "metadata": {
        "trusted": true,
        "id": "SXwFmdf_UcK-",
        "colab_type": "code",
        "colab": {}
      },
      "source": [
        "submission=pd.DataFrame()\n",
        "submission=test\n",
        "submission['isFraud']=test_val[1]\n",
        "submission.head(5)"
      ],
      "execution_count": 0,
      "outputs": []
    },
    {
      "cell_type": "code",
      "metadata": {
        "trusted": true,
        "id": "G3-Fnc1EUcLF",
        "colab_type": "code",
        "colab": {}
      },
      "source": [
        "submission.to_csv(\"submission.csv\")"
      ],
      "execution_count": 0,
      "outputs": []
    }
  ]
}